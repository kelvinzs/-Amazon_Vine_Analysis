{
 "cells": [
  {
   "cell_type": "code",
   "execution_count": 2,
   "id": "7842e8d6",
   "metadata": {},
   "outputs": [],
   "source": [
    "import pandas as pd\n",
    "vine_df = pd.read_csv('vine_table')"
   ]
  },
  {
   "cell_type": "code",
   "execution_count": 3,
   "id": "dd80fc7f",
   "metadata": {},
   "outputs": [
    {
     "data": {
      "text/plain": [
       "review_id            9002021\n",
       "star_rating          9001881\n",
       "helpful_votes        9001881\n",
       "total_votes          9001881\n",
       "vine                 9001881\n",
       "verified_purchase    9001881\n",
       "dtype: int64"
      ]
     },
     "execution_count": 3,
     "metadata": {},
     "output_type": "execute_result"
    }
   ],
   "source": [
    "vine_df.count()"
   ]
  },
  {
   "cell_type": "code",
   "execution_count": 5,
   "id": "1563dbf4",
   "metadata": {},
   "outputs": [
    {
     "data": {
      "text/html": [
       "<div>\n",
       "<style scoped>\n",
       "    .dataframe tbody tr th:only-of-type {\n",
       "        vertical-align: middle;\n",
       "    }\n",
       "\n",
       "    .dataframe tbody tr th {\n",
       "        vertical-align: top;\n",
       "    }\n",
       "\n",
       "    .dataframe thead th {\n",
       "        text-align: right;\n",
       "    }\n",
       "</style>\n",
       "<table border=\"1\" class=\"dataframe\">\n",
       "  <thead>\n",
       "    <tr style=\"text-align: right;\">\n",
       "      <th></th>\n",
       "      <th>review_id</th>\n",
       "      <th>star_rating</th>\n",
       "      <th>helpful_votes</th>\n",
       "      <th>total_votes</th>\n",
       "      <th>vine</th>\n",
       "      <th>verified_purchase</th>\n",
       "    </tr>\n",
       "  </thead>\n",
       "  <tbody>\n",
       "    <tr>\n",
       "      <th>0</th>\n",
       "      <td>R3W4P9UBGNGH1U</td>\n",
       "      <td>2.0</td>\n",
       "      <td>1.0</td>\n",
       "      <td>3.0</td>\n",
       "      <td>N</td>\n",
       "      <td>Y</td>\n",
       "    </tr>\n",
       "    <tr>\n",
       "      <th>1</th>\n",
       "      <td>R15V54KBMTQWAY</td>\n",
       "      <td>4.0</td>\n",
       "      <td>0.0</td>\n",
       "      <td>0.0</td>\n",
       "      <td>N</td>\n",
       "      <td>N</td>\n",
       "    </tr>\n",
       "    <tr>\n",
       "      <th>2</th>\n",
       "      <td>RY8I449HNXSVF</td>\n",
       "      <td>5.0</td>\n",
       "      <td>0.0</td>\n",
       "      <td>0.0</td>\n",
       "      <td>N</td>\n",
       "      <td>Y</td>\n",
       "    </tr>\n",
       "    <tr>\n",
       "      <th>3</th>\n",
       "      <td>R18TLJYCKJFLSR</td>\n",
       "      <td>5.0</td>\n",
       "      <td>0.0</td>\n",
       "      <td>0.0</td>\n",
       "      <td>N</td>\n",
       "      <td>Y</td>\n",
       "    </tr>\n",
       "    <tr>\n",
       "      <th>4</th>\n",
       "      <td>R1NK26SWS53B8Q</td>\n",
       "      <td>5.0</td>\n",
       "      <td>0.0</td>\n",
       "      <td>0.0</td>\n",
       "      <td>N</td>\n",
       "      <td>Y</td>\n",
       "    </tr>\n",
       "    <tr>\n",
       "      <th>5</th>\n",
       "      <td>R11LOHEDYJALTN</td>\n",
       "      <td>5.0</td>\n",
       "      <td>0.0</td>\n",
       "      <td>0.0</td>\n",
       "      <td>N</td>\n",
       "      <td>Y</td>\n",
       "    </tr>\n",
       "    <tr>\n",
       "      <th>6</th>\n",
       "      <td>R3ALQVQB2P9LA7</td>\n",
       "      <td>4.0</td>\n",
       "      <td>0.0</td>\n",
       "      <td>0.0</td>\n",
       "      <td>N</td>\n",
       "      <td>Y</td>\n",
       "    </tr>\n",
       "    <tr>\n",
       "      <th>7</th>\n",
       "      <td>R3MWLXLNO21PDQ</td>\n",
       "      <td>5.0</td>\n",
       "      <td>0.0</td>\n",
       "      <td>0.0</td>\n",
       "      <td>N</td>\n",
       "      <td>Y</td>\n",
       "    </tr>\n",
       "    <tr>\n",
       "      <th>8</th>\n",
       "      <td>R2L15IS24CX0LI</td>\n",
       "      <td>5.0</td>\n",
       "      <td>0.0</td>\n",
       "      <td>0.0</td>\n",
       "      <td>N</td>\n",
       "      <td>Y</td>\n",
       "    </tr>\n",
       "    <tr>\n",
       "      <th>9</th>\n",
       "      <td>R1DJ8976WPWVZU</td>\n",
       "      <td>3.0</td>\n",
       "      <td>0.0</td>\n",
       "      <td>0.0</td>\n",
       "      <td>N</td>\n",
       "      <td>Y</td>\n",
       "    </tr>\n",
       "  </tbody>\n",
       "</table>\n",
       "</div>"
      ],
      "text/plain": [
       "        review_id  star_rating  helpful_votes  total_votes vine  \\\n",
       "0  R3W4P9UBGNGH1U          2.0            1.0          3.0    N   \n",
       "1  R15V54KBMTQWAY          4.0            0.0          0.0    N   \n",
       "2   RY8I449HNXSVF          5.0            0.0          0.0    N   \n",
       "3  R18TLJYCKJFLSR          5.0            0.0          0.0    N   \n",
       "4  R1NK26SWS53B8Q          5.0            0.0          0.0    N   \n",
       "5  R11LOHEDYJALTN          5.0            0.0          0.0    N   \n",
       "6  R3ALQVQB2P9LA7          4.0            0.0          0.0    N   \n",
       "7  R3MWLXLNO21PDQ          5.0            0.0          0.0    N   \n",
       "8  R2L15IS24CX0LI          5.0            0.0          0.0    N   \n",
       "9  R1DJ8976WPWVZU          3.0            0.0          0.0    N   \n",
       "\n",
       "  verified_purchase  \n",
       "0                 Y  \n",
       "1                 N  \n",
       "2                 Y  \n",
       "3                 Y  \n",
       "4                 Y  \n",
       "5                 Y  \n",
       "6                 Y  \n",
       "7                 Y  \n",
       "8                 Y  \n",
       "9                 Y  "
      ]
     },
     "execution_count": 5,
     "metadata": {},
     "output_type": "execute_result"
    }
   ],
   "source": [
    "#There is a DataFrame or table for the vine_table data using one of three methods above\n",
    "vine_df.head(10)"
   ]
  },
  {
   "cell_type": "code",
   "execution_count": 8,
   "id": "532e4837",
   "metadata": {},
   "outputs": [
    {
     "name": "stdout",
     "output_type": "stream",
     "text": [
      "review_id            72587\n",
      "star_rating          72587\n",
      "helpful_votes        72587\n",
      "total_votes          72587\n",
      "vine                 72587\n",
      "verified_purchase    72587\n",
      "dtype: int64\n"
     ]
    }
   ],
   "source": [
    "#The data is filtered to create a DataFrame or table where there are 20 or more total votes\n",
    "vine_df_20 = vine_df.loc[vine_df['total_votes'] >= 20] \n",
    "print(vine_df_20.count())"
   ]
  },
  {
   "cell_type": "code",
   "execution_count": 12,
   "id": "2dd359e7",
   "metadata": {},
   "outputs": [
    {
     "name": "stderr",
     "output_type": "stream",
     "text": [
      "/var/folders/0d/lhhc1lw55g50c36v96hcq9hh0000gn/T/ipykernel_61860/1226070389.py:2: SettingWithCopyWarning: \n",
      "A value is trying to be set on a copy of a slice from a DataFrame.\n",
      "Try using .loc[row_indexer,col_indexer] = value instead\n",
      "\n",
      "See the caveats in the documentation: https://pandas.pydata.org/pandas-docs/stable/user_guide/indexing.html#returning-a-view-versus-a-copy\n",
      "  vine_df_20['percent'] = vine_df_20['helpful_votes']/vine_df_20['total_votes']\n"
     ]
    },
    {
     "data": {
      "text/html": [
       "<div>\n",
       "<style scoped>\n",
       "    .dataframe tbody tr th:only-of-type {\n",
       "        vertical-align: middle;\n",
       "    }\n",
       "\n",
       "    .dataframe tbody tr th {\n",
       "        vertical-align: top;\n",
       "    }\n",
       "\n",
       "    .dataframe thead th {\n",
       "        text-align: right;\n",
       "    }\n",
       "</style>\n",
       "<table border=\"1\" class=\"dataframe\">\n",
       "  <thead>\n",
       "    <tr style=\"text-align: right;\">\n",
       "      <th></th>\n",
       "      <th>review_id</th>\n",
       "      <th>star_rating</th>\n",
       "      <th>helpful_votes</th>\n",
       "      <th>total_votes</th>\n",
       "      <th>vine</th>\n",
       "      <th>verified_purchase</th>\n",
       "      <th>percent</th>\n",
       "    </tr>\n",
       "  </thead>\n",
       "  <tbody>\n",
       "    <tr>\n",
       "      <th>116</th>\n",
       "      <td>R2WOW0TURNXB26</td>\n",
       "      <td>3.0</td>\n",
       "      <td>54.0</td>\n",
       "      <td>59.0</td>\n",
       "      <td>N</td>\n",
       "      <td>Y</td>\n",
       "      <td>0.915254</td>\n",
       "    </tr>\n",
       "    <tr>\n",
       "      <th>197</th>\n",
       "      <td>R13VL62Y2HBQ0B</td>\n",
       "      <td>5.0</td>\n",
       "      <td>15.0</td>\n",
       "      <td>21.0</td>\n",
       "      <td>N</td>\n",
       "      <td>Y</td>\n",
       "      <td>0.714286</td>\n",
       "    </tr>\n",
       "    <tr>\n",
       "      <th>307</th>\n",
       "      <td>R22G55KAPZKJQV</td>\n",
       "      <td>4.0</td>\n",
       "      <td>20.0</td>\n",
       "      <td>21.0</td>\n",
       "      <td>N</td>\n",
       "      <td>Y</td>\n",
       "      <td>0.952381</td>\n",
       "    </tr>\n",
       "    <tr>\n",
       "      <th>1012</th>\n",
       "      <td>R1610PGTJS7G3N</td>\n",
       "      <td>2.0</td>\n",
       "      <td>28.0</td>\n",
       "      <td>44.0</td>\n",
       "      <td>N</td>\n",
       "      <td>Y</td>\n",
       "      <td>0.636364</td>\n",
       "    </tr>\n",
       "    <tr>\n",
       "      <th>2265</th>\n",
       "      <td>RLQL04BL0QXOJ</td>\n",
       "      <td>4.0</td>\n",
       "      <td>45.0</td>\n",
       "      <td>47.0</td>\n",
       "      <td>N</td>\n",
       "      <td>Y</td>\n",
       "      <td>0.957447</td>\n",
       "    </tr>\n",
       "  </tbody>\n",
       "</table>\n",
       "</div>"
      ],
      "text/plain": [
       "           review_id  star_rating  helpful_votes  total_votes vine  \\\n",
       "116   R2WOW0TURNXB26          3.0           54.0         59.0    N   \n",
       "197   R13VL62Y2HBQ0B          5.0           15.0         21.0    N   \n",
       "307   R22G55KAPZKJQV          4.0           20.0         21.0    N   \n",
       "1012  R1610PGTJS7G3N          2.0           28.0         44.0    N   \n",
       "2265   RLQL04BL0QXOJ          4.0           45.0         47.0    N   \n",
       "\n",
       "     verified_purchase   percent  \n",
       "116                  Y  0.915254  \n",
       "197                  Y  0.714286  \n",
       "307                  Y  0.952381  \n",
       "1012                 Y  0.636364  \n",
       "2265                 Y  0.957447  "
      ]
     },
     "execution_count": 12,
     "metadata": {},
     "output_type": "execute_result"
    }
   ],
   "source": [
    "#Filter the new DataFrame or table created in Step 1 and create a new DataFrame or table to retrieve all the rows where the number of helpful_votes divided by total_votes is equal to or greater than 50%.\n",
    "vine_df_20['percent'] = vine_df_20['helpful_votes']/vine_df_20['total_votes']\n",
    "vine_df_20.head()\n"
   ]
  },
  {
   "cell_type": "code",
   "execution_count": 18,
   "id": "ae6a4323",
   "metadata": {},
   "outputs": [
    {
     "data": {
      "text/html": [
       "<div>\n",
       "<style scoped>\n",
       "    .dataframe tbody tr th:only-of-type {\n",
       "        vertical-align: middle;\n",
       "    }\n",
       "\n",
       "    .dataframe tbody tr th {\n",
       "        vertical-align: top;\n",
       "    }\n",
       "\n",
       "    .dataframe thead th {\n",
       "        text-align: right;\n",
       "    }\n",
       "</style>\n",
       "<table border=\"1\" class=\"dataframe\">\n",
       "  <thead>\n",
       "    <tr style=\"text-align: right;\">\n",
       "      <th></th>\n",
       "      <th>review_id</th>\n",
       "      <th>star_rating</th>\n",
       "      <th>helpful_votes</th>\n",
       "      <th>total_votes</th>\n",
       "      <th>vine</th>\n",
       "      <th>verified_purchase</th>\n",
       "      <th>percent</th>\n",
       "    </tr>\n",
       "  </thead>\n",
       "  <tbody>\n",
       "    <tr>\n",
       "      <th>116</th>\n",
       "      <td>R2WOW0TURNXB26</td>\n",
       "      <td>3.0</td>\n",
       "      <td>54.0</td>\n",
       "      <td>59.0</td>\n",
       "      <td>N</td>\n",
       "      <td>Y</td>\n",
       "      <td>0.915254</td>\n",
       "    </tr>\n",
       "    <tr>\n",
       "      <th>2731</th>\n",
       "      <td>R2AYJHH8WJNGAU</td>\n",
       "      <td>4.0</td>\n",
       "      <td>98.0</td>\n",
       "      <td>104.0</td>\n",
       "      <td>N</td>\n",
       "      <td>Y</td>\n",
       "      <td>0.942308</td>\n",
       "    </tr>\n",
       "    <tr>\n",
       "      <th>3164</th>\n",
       "      <td>R2EE2TR4MRDV0U</td>\n",
       "      <td>5.0</td>\n",
       "      <td>53.0</td>\n",
       "      <td>59.0</td>\n",
       "      <td>N</td>\n",
       "      <td>Y</td>\n",
       "      <td>0.898305</td>\n",
       "    </tr>\n",
       "    <tr>\n",
       "      <th>3368</th>\n",
       "      <td>RD4A80I5JDHED</td>\n",
       "      <td>5.0</td>\n",
       "      <td>69.0</td>\n",
       "      <td>77.0</td>\n",
       "      <td>N</td>\n",
       "      <td>N</td>\n",
       "      <td>0.896104</td>\n",
       "    </tr>\n",
       "    <tr>\n",
       "      <th>3706</th>\n",
       "      <td>RZOPM62JMW97V</td>\n",
       "      <td>2.0</td>\n",
       "      <td>103.0</td>\n",
       "      <td>108.0</td>\n",
       "      <td>N</td>\n",
       "      <td>Y</td>\n",
       "      <td>0.953704</td>\n",
       "    </tr>\n",
       "  </tbody>\n",
       "</table>\n",
       "</div>"
      ],
      "text/plain": [
       "           review_id  star_rating  helpful_votes  total_votes vine  \\\n",
       "116   R2WOW0TURNXB26          3.0           54.0         59.0    N   \n",
       "2731  R2AYJHH8WJNGAU          4.0           98.0        104.0    N   \n",
       "3164  R2EE2TR4MRDV0U          5.0           53.0         59.0    N   \n",
       "3368   RD4A80I5JDHED          5.0           69.0         77.0    N   \n",
       "3706   RZOPM62JMW97V          2.0          103.0        108.0    N   \n",
       "\n",
       "     verified_purchase   percent  \n",
       "116                  Y  0.915254  \n",
       "2731                 Y  0.942308  \n",
       "3164                 Y  0.898305  \n",
       "3368                 N  0.896104  \n",
       "3706                 Y  0.953704  "
      ]
     },
     "execution_count": 18,
     "metadata": {},
     "output_type": "execute_result"
    }
   ],
   "source": [
    "#The data is filtered to create a DataFrame or table where the percentage of helpful_votes is equal to or greater than 50% (5 pt)\n",
    "df_50 = vine_df_20.loc[vine_df_20['helpful_votes'] >= 50] \n",
    "df_50.head()\n"
   ]
  },
  {
   "cell_type": "code",
   "execution_count": 20,
   "id": "6da2ff0f",
   "metadata": {},
   "outputs": [
    {
     "data": {
      "text/plain": [
       "review_id            613\n",
       "star_rating          613\n",
       "helpful_votes        613\n",
       "total_votes          613\n",
       "vine                 613\n",
       "verified_purchase    613\n",
       "percent              613\n",
       "dtype: int64"
      ]
     },
     "execution_count": 20,
     "metadata": {},
     "output_type": "execute_result"
    }
   ],
   "source": [
    "#The data is filtered to create a DataFrame or table where there is a Vine review (5 pt)\n",
    "paid_vine = vine_df_20.loc[(vine_df_20[\"vine\"]==\"Y\") & (vine_df_20[\"percent\"] >= .5)]\n",
    "paid_vine.count()"
   ]
  },
  {
   "cell_type": "code",
   "execution_count": 21,
   "id": "d2f919e5",
   "metadata": {},
   "outputs": [
    {
     "data": {
      "text/plain": [
       "review_id            64968\n",
       "star_rating          64968\n",
       "helpful_votes        64968\n",
       "total_votes          64968\n",
       "vine                 64968\n",
       "verified_purchase    64968\n",
       "percent              64968\n",
       "dtype: int64"
      ]
     },
     "execution_count": 21,
     "metadata": {},
     "output_type": "execute_result"
    }
   ],
   "source": [
    "#The data is filtered to create a DataFrame or table where there isn’t a Vine review\n",
    "unpaid_vine = vine_df_20.loc[(vine_df_20[\"vine\"]==\"N\") & (vine_df_20[\"percent\"] >= .5)]\n",
    "unpaid_vine.count()"
   ]
  },
  {
   "cell_type": "code",
   "execution_count": 22,
   "id": "2d51156a",
   "metadata": {},
   "outputs": [
    {
     "data": {
      "text/plain": [
       "review_id            222\n",
       "star_rating          222\n",
       "helpful_votes        222\n",
       "total_votes          222\n",
       "vine                 222\n",
       "verified_purchase    222\n",
       "percent              222\n",
       "dtype: int64"
      ]
     },
     "execution_count": 22,
     "metadata": {},
     "output_type": "execute_result"
    }
   ],
   "source": [
    "#The total number of reviews, the number of 5-star reviews, and the percentage 5-star reviews are calculated for all Vine and non-Vine reviews\n",
    "five_star_reviews_paid = vine_df_20.loc[(vine_df_20[\"vine\"]==\"Y\") & (vine_df_20[\"percent\"] >= .5) & (vine_df_20[\"star_rating\"] == 5)]\n",
    "five_star_reviews_paid.count()"
   ]
  },
  {
   "cell_type": "code",
   "execution_count": 23,
   "id": "235fcf21",
   "metadata": {},
   "outputs": [
    {
     "data": {
      "text/plain": [
       "review_id            30543\n",
       "star_rating          30543\n",
       "helpful_votes        30543\n",
       "total_votes          30543\n",
       "vine                 30543\n",
       "verified_purchase    30543\n",
       "percent              30543\n",
       "dtype: int64"
      ]
     },
     "execution_count": 23,
     "metadata": {},
     "output_type": "execute_result"
    }
   ],
   "source": [
    "five_star_reviews_notpaid = vine_df_20.loc[(vine_df_20[\"vine\"]==\"N\") & (vine_df_20[\"percent\"] >= .5) & (vine_df_20[\"star_rating\"] == 5)]\n",
    "five_star_reviews_notpaid.count()"
   ]
  },
  {
   "cell_type": "code",
   "execution_count": 24,
   "id": "d4f8541f",
   "metadata": {},
   "outputs": [
    {
     "data": {
      "text/plain": [
       "'42.1%'"
      ]
     },
     "execution_count": 24,
     "metadata": {},
     "output_type": "execute_result"
    }
   ],
   "source": [
    "percent_five_star_review_notpaid = five_star_reviews_notpaid['review_id'].count()/vine_df_20['review_id'].count() * 100\n",
    "percent_five_star_review_notpaid = \"{:.1f}%\".format(percent_five_star_review_notpaid)\n",
    "percent_five_star_review_notpaid"
   ]
  },
  {
   "cell_type": "code",
   "execution_count": 26,
   "id": "78f74fc8",
   "metadata": {},
   "outputs": [
    {
     "data": {
      "text/plain": [
       "'0.3%'"
      ]
     },
     "execution_count": 26,
     "metadata": {},
     "output_type": "execute_result"
    }
   ],
   "source": [
    "percent_five_star_review_paid = five_star_reviews_paid['review_id'].count()/vine_df_20['review_id'].count() * 100\n",
    "percent_five_star_review_paid = \"{:.1f}%\".format(percent_five_star_review_paid)\n",
    "percent_five_star_review_paid\n"
   ]
  },
  {
   "cell_type": "code",
   "execution_count": null,
   "id": "0498b808",
   "metadata": {},
   "outputs": [],
   "source": []
  }
 ],
 "metadata": {
  "kernelspec": {
   "display_name": "Python 3 (ipykernel)",
   "language": "python",
   "name": "python3"
  },
  "language_info": {
   "codemirror_mode": {
    "name": "ipython",
    "version": 3
   },
   "file_extension": ".py",
   "mimetype": "text/x-python",
   "name": "python",
   "nbconvert_exporter": "python",
   "pygments_lexer": "ipython3",
   "version": "3.9.7"
  }
 },
 "nbformat": 4,
 "nbformat_minor": 5
}
